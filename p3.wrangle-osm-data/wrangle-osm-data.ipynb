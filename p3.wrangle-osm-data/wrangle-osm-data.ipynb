{
 "cells": [
  {
   "cell_type": "markdown",
   "metadata": {},
   "source": [
    "# P3. Wrangle Open Street Map Data\n",
    "\n",
    "## Introduction\n",
    "\n",
    "<img style=\"float: center;\" src=\"img/logo.png\">\n",
    "\n",
    "\n",
    "I chose the Oslo area, the snapshot of which can be downloaded from [mapzen](https://s3.amazonaws.com/metro-extracts.mapzen.com/oslo_norway.osm.bz2).\n",
    "\n",
    "There is a makefile in this folder, which does the download and unpacks the file for the whole dataset:\n",
    "\n",
    "```bash\n",
    "$ make download\n",
    "```\n",
    "\n",
    "Note that it's a big one (1.3Gb). There is a smaller sample included for testing, `stovner.osm`.\n"
   ]
  },
  {
   "cell_type": "code",
   "execution_count": null,
   "metadata": {
    "collapsed": true
   },
   "outputs": [],
   "source": [
    "# load the ipython-sql extention to run inline SQL and setup syntax coloring for it\n",
    "%load_ext sql\n",
    "\n",
    "import IPython\n",
    "js = \"IPython.CodeCell.config_defaults.highlight_modes['magic_sql'] = {'reg':[/^%%sql/]};\"\n",
    "IPython.core.display.display_javascript(js, raw=True)"
   ]
  },
  {
   "cell_type": "code",
   "execution_count": 11,
   "metadata": {
    "collapsed": false
   },
   "outputs": [
    {
     "data": {
      "text/plain": [
       "u'Connected: None@oslo_norway.db'"
      ]
     },
     "execution_count": 11,
     "metadata": {},
     "output_type": "execute_result"
    }
   ],
   "source": [
    "%sql sqlite:///oslo_norway.db"
   ]
  },
  {
   "cell_type": "code",
   "execution_count": 10,
   "metadata": {
    "collapsed": false
   },
   "outputs": [
    {
     "name": "stdout",
     "output_type": "stream",
     "text": [
      "Done.\n"
     ]
    },
    {
     "data": {
      "text/plain": [
       "[]"
      ]
     },
     "execution_count": 10,
     "metadata": {},
     "output_type": "execute_result"
    }
   ],
   "source": [
    "%%sql\n",
    "create table if not exists \n",
    "mytable (name) ;"
   ]
  },
  {
   "cell_type": "code",
   "execution_count": null,
   "metadata": {
    "collapsed": true
   },
   "outputs": [],
   "source": []
  }
 ],
 "metadata": {
  "kernelspec": {
   "display_name": "Python 2",
   "language": "python",
   "name": "python2"
  },
  "language_info": {
   "codemirror_mode": {
    "name": "ipython",
    "version": 2
   },
   "file_extension": ".py",
   "mimetype": "text/x-python",
   "name": "python",
   "nbconvert_exporter": "python",
   "pygments_lexer": "ipython2",
   "version": "2.7.13"
  }
 },
 "nbformat": 4,
 "nbformat_minor": 2
}
