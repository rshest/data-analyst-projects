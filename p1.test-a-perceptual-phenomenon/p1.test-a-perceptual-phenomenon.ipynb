{
 "cells": [
  {
   "cell_type": "markdown",
   "metadata": {},
   "source": [
    "# P1. Test a Perceptual Phenomenon\n",
    "\n",
    "## Introduction\n",
    "\n",
    "This project analyses statistics of an experiment, which is exploring the so-called [Stroop Effect](https://en.wikipedia.org/wiki/Stroop_effect).\n",
    "\n",
    "In this experiment, those participating are presented with a sequence of colored words. The subject must read aloud **the color of ink** of each word (not the word itself!) The resulting time to read all the words is measured as \"reaction time\"\n",
    "\n",
    "There are two setups: \"congruent\" and \"incongruent\" (different \"stimuli types\"). In the first one the words themselves and their color matches, in the second they differ:\n",
    "\n",
    "![](img/stroop_experiment.png)\n",
    "\n",
    "\n",
    "Stroop's findings are that **incongruent case usually results in longer reaction times** (i.e. it's \"harder\" to correctly say aloud the word's color when the word itself names a non-matching color). There are different theories that are trying to explain this phenomenon, both in cognitive psychology and neuroscience.   "
   ]
  },
  {
   "cell_type": "markdown",
   "metadata": {},
   "source": [
    "## Question 1 \n",
    "\n",
    "*What is our independent variable? What is our dependent variable?*\n",
    "\n",
    "**Answer**: \n",
    "\n",
    "Independent variable in our case is the *stimuli type*. \n",
    "\n",
    "It can be either *congruent* (whereas the color of ink matches the word) or *incongruent* (color of the ink does not correspond to the word). So the variable is binary, i.e. it has two possible values. Apparently, the original Stroop test was also taking into account a third stimuli type, which is a \"neutral\" one, but we are ignoring it in our experiment.\n",
    "\n",
    "We manipulate this variable in order to observe the result of its change on the *reaction time* (time it takes to name the color of ink aloud).\n",
    "\n",
    "Therefore, *reaction time* is the dependent variable.\n",
    "\n",
    "There is also a bunch of lurking variables, one example is whether the person in question is a native English speaker or not. In a case such as mine (English being not my first language), arguably the brain's color/language processing paths may be offset related to what the original Stroop's research was presuming. Also, a person may be color-blind, tired, illiterate (due to an age) or specifically trained to block certain stimuli types effectively.\n",
    "\n",
    "Granted, there is no additional information available about the specifics of the actual sample data provided in the .csv file."
   ]
  },
  {
   "cell_type": "markdown",
   "metadata": {
    "slideshow": {
     "slide_type": "-"
    }
   },
   "source": [
    "## Question 2\n",
    "\n",
    "*What is an appropriate set of hypotheses for this task? What kind of statistical test do you expect to perform? Justify your choices.*\n",
    "\n",
    "**Answer**: \n",
    "\n",
    "Since we already know what exactly kind of effect we are trying to confirm (or not), namely that incongruent reaction times are expected to be *greater* according to Stroop findings, we go with a single-tailed hypothesis setup.\n",
    "\n",
    "Hypotheses:\n",
    "$$ H_0:  \\mu_i \\le \\mu_c $$\n",
    "$$ H_A:  \\mu_i > \\mu_c $$\n",
    "where:\n",
    "*  $\\mu_i$ is average reaction time in the incongruent case\n",
    "*  $\\mu_c$ is average reaction time in the congruent case\n",
    "\n",
    "Therefore, the hypotheses set could be reworded as: \n",
    "*  $H_0$ assumes that reaction time in the congruent case is lower or equal to the incongruent case. To put differently: when the color of ink and the word itself *do* match then it will take the same time (or more) to read the words than if they did not match.\n",
    "*  $H_A$ assumes that it takes noticeably more time to read the words in the incongruent case\n",
    "\n",
    "The statistical test we are going to perform is the *Student's dependent t-test for paired samples*, due to the following reasons:\n",
    "*  We don't know the population paramters, so z-test is not possible\n",
    "*  The samples are paired (dependent), since based on the data we have, the same subject is first subjected to a first part of the experiment (congruent), following with the second part (incongruent)\n",
    "\n",
    "The latter means that we can rewrite our hypotheses as:\n",
    "$$ H_0:  \\mu_i - \\mu_c \\le 0 $$\n",
    "$$ H_A:  \\mu_i - \\mu_c > 0 $$\n",
    "\n",
    "and work with the time difference for each subject instead of the two separate times."
   ]
  },
  {
   "cell_type": "markdown",
   "metadata": {},
   "source": [
    "## Question 3\n",
    "\n",
    "*Report some descriptive statistics regarding this dataset. Include at least one measure of central tendency and at least one measure of variability.*\n",
    "\n",
    "**Answer**: "
   ]
  },
  {
   "cell_type": "markdown",
   "metadata": {},
   "source": [
    "Let's read the data first from the provided .csv file:"
   ]
  },
  {
   "cell_type": "code",
   "execution_count": 1,
   "metadata": {
    "collapsed": false,
    "scrolled": true
   },
   "outputs": [
    {
     "data": {
      "text/html": [
       "<div>\n",
       "<table border=\"1\" class=\"dataframe\">\n",
       "  <thead>\n",
       "    <tr style=\"text-align: right;\">\n",
       "      <th></th>\n",
       "      <th>0</th>\n",
       "      <th>1</th>\n",
       "      <th>2</th>\n",
       "      <th>3</th>\n",
       "      <th>4</th>\n",
       "      <th>5</th>\n",
       "      <th>6</th>\n",
       "      <th>7</th>\n",
       "      <th>8</th>\n",
       "      <th>9</th>\n",
       "      <th>...</th>\n",
       "      <th>14</th>\n",
       "      <th>15</th>\n",
       "      <th>16</th>\n",
       "      <th>17</th>\n",
       "      <th>18</th>\n",
       "      <th>19</th>\n",
       "      <th>20</th>\n",
       "      <th>21</th>\n",
       "      <th>22</th>\n",
       "      <th>23</th>\n",
       "    </tr>\n",
       "  </thead>\n",
       "  <tbody>\n",
       "    <tr>\n",
       "      <th>Congruent</th>\n",
       "      <td>12.079</td>\n",
       "      <td>16.791</td>\n",
       "      <td>9.564</td>\n",
       "      <td>8.630</td>\n",
       "      <td>14.669</td>\n",
       "      <td>12.238</td>\n",
       "      <td>14.692</td>\n",
       "      <td>8.987</td>\n",
       "      <td>9.401</td>\n",
       "      <td>14.480</td>\n",
       "      <td>...</td>\n",
       "      <td>18.200</td>\n",
       "      <td>12.130</td>\n",
       "      <td>18.495</td>\n",
       "      <td>10.639</td>\n",
       "      <td>11.344</td>\n",
       "      <td>12.369</td>\n",
       "      <td>12.944</td>\n",
       "      <td>14.233</td>\n",
       "      <td>19.710</td>\n",
       "      <td>16.004</td>\n",
       "    </tr>\n",
       "    <tr>\n",
       "      <th>Incongruent</th>\n",
       "      <td>19.278</td>\n",
       "      <td>18.741</td>\n",
       "      <td>21.214</td>\n",
       "      <td>15.687</td>\n",
       "      <td>22.803</td>\n",
       "      <td>20.878</td>\n",
       "      <td>24.572</td>\n",
       "      <td>17.394</td>\n",
       "      <td>20.762</td>\n",
       "      <td>26.282</td>\n",
       "      <td>...</td>\n",
       "      <td>35.255</td>\n",
       "      <td>22.158</td>\n",
       "      <td>25.139</td>\n",
       "      <td>20.429</td>\n",
       "      <td>17.425</td>\n",
       "      <td>34.288</td>\n",
       "      <td>23.894</td>\n",
       "      <td>17.960</td>\n",
       "      <td>22.058</td>\n",
       "      <td>21.157</td>\n",
       "    </tr>\n",
       "  </tbody>\n",
       "</table>\n",
       "<p>2 rows × 24 columns</p>\n",
       "</div>"
      ],
      "text/plain": [
       "                 0       1       2       3       4       5       6       7   \\\n",
       "Congruent    12.079  16.791   9.564   8.630  14.669  12.238  14.692   8.987   \n",
       "Incongruent  19.278  18.741  21.214  15.687  22.803  20.878  24.572  17.394   \n",
       "\n",
       "                 8       9    ...        14      15      16      17      18  \\\n",
       "Congruent     9.401  14.480   ...    18.200  12.130  18.495  10.639  11.344   \n",
       "Incongruent  20.762  26.282   ...    35.255  22.158  25.139  20.429  17.425   \n",
       "\n",
       "                 19      20      21      22      23  \n",
       "Congruent    12.369  12.944  14.233  19.710  16.004  \n",
       "Incongruent  34.288  23.894  17.960  22.058  21.157  \n",
       "\n",
       "[2 rows x 24 columns]"
      ]
     },
     "execution_count": 1,
     "metadata": {},
     "output_type": "execute_result"
    }
   ],
   "source": [
    "import csv\n",
    "import pandas as pd\n",
    "\n",
    "stroop_data = pd.read_csv('data/stroopdata.csv')\n",
    "stroop_data.transpose()"
   ]
  },
  {
   "cell_type": "markdown",
   "metadata": {},
   "source": [
    "Now, we build a table with descriptive statistics:"
   ]
  },
  {
   "cell_type": "code",
   "execution_count": 2,
   "metadata": {
    "collapsed": false,
    "scrolled": false
   },
   "outputs": [
    {
     "data": {
      "text/html": [
       "<div>\n",
       "<table border=\"1\" class=\"dataframe\">\n",
       "  <thead>\n",
       "    <tr style=\"text-align: right;\">\n",
       "      <th></th>\n",
       "      <th>Mean</th>\n",
       "      <th>Median</th>\n",
       "      <th>Trimmed mean (10%)</th>\n",
       "      <th>Standard deviation</th>\n",
       "      <th>Variance</th>\n",
       "      <th>First quartile</th>\n",
       "      <th>Third quartile</th>\n",
       "      <th>Interquartile range</th>\n",
       "      <th>5% percentile</th>\n",
       "      <th>95% percentile</th>\n",
       "      <th>Min</th>\n",
       "      <th>Max</th>\n",
       "    </tr>\n",
       "  </thead>\n",
       "  <tbody>\n",
       "    <tr>\n",
       "      <th>Congruent</th>\n",
       "      <td>14.051125</td>\n",
       "      <td>14.3565</td>\n",
       "      <td>13.8786</td>\n",
       "      <td>3.484416</td>\n",
       "      <td>12.141153</td>\n",
       "      <td>11.89525</td>\n",
       "      <td>16.20075</td>\n",
       "      <td>4.30550</td>\n",
       "      <td>9.04910</td>\n",
       "      <td>19.52775</td>\n",
       "      <td>8.630</td>\n",
       "      <td>22.328</td>\n",
       "    </tr>\n",
       "    <tr>\n",
       "      <th>Incongruent</th>\n",
       "      <td>22.015917</td>\n",
       "      <td>21.0175</td>\n",
       "      <td>21.2879</td>\n",
       "      <td>4.696055</td>\n",
       "      <td>22.052934</td>\n",
       "      <td>18.71675</td>\n",
       "      <td>24.05150</td>\n",
       "      <td>5.33475</td>\n",
       "      <td>17.39865</td>\n",
       "      <td>33.08710</td>\n",
       "      <td>15.687</td>\n",
       "      <td>35.255</td>\n",
       "    </tr>\n",
       "  </tbody>\n",
       "</table>\n",
       "</div>"
      ],
      "text/plain": [
       "                  Mean   Median  Trimmed mean (10%)  Standard deviation  \\\n",
       "Congruent    14.051125  14.3565             13.8786            3.484416   \n",
       "Incongruent  22.015917  21.0175             21.2879            4.696055   \n",
       "\n",
       "              Variance  First quartile  Third quartile  Interquartile range  \\\n",
       "Congruent    12.141153        11.89525        16.20075              4.30550   \n",
       "Incongruent  22.052934        18.71675        24.05150              5.33475   \n",
       "\n",
       "             5% percentile  95% percentile     Min     Max  \n",
       "Congruent          9.04910        19.52775   8.630  22.328  \n",
       "Incongruent       17.39865        33.08710  15.687  35.255  "
      ]
     },
     "execution_count": 2,
     "metadata": {},
     "output_type": "execute_result"
    }
   ],
   "source": [
    "import numpy as np\n",
    "from scipy.stats import trim_mean\n",
    "\n",
    "stats = [\n",
    "    # central tendency:\n",
    "    [\"Mean\", np.mean], [\"Median\", np.median], [\"Trimmed mean (10%)\", lambda x: trim_mean(x, .1)[0]], \n",
    "    # variability:\n",
    "    [\"Standard deviation\", np.std], [\"Variance\", np.var],\n",
    "    [\"First quartile\", np.percentile, 25], [\"Third quartile\", np.percentile, 75],\n",
    "    [\"Interquartile range\", lambda x: np.percentile(x, 75) - np.percentile(x, 25)],\n",
    "    [\"5% percentile\", np.percentile, 5], [\"95% percentile\", np.percentile, 95],\n",
    "    # other:\n",
    "    [\"Min\", np.amin], [\"Max\", np.amax]]\n",
    "\n",
    "def gather_stats(col):\n",
    "    return map(lambda desc: desc[1](col.as_matrix(), *desc[2:]), stats)\n",
    "\n",
    "pd.DataFrame([gather_stats(stroop_data.ix[:,0:1]), gather_stats(stroop_data.ix[:,1:2])], \n",
    "             index = stroop_data.columns, columns = map(lambda x: x[0], stats))"
   ]
  },
  {
   "cell_type": "markdown",
   "metadata": {},
   "source": [
    "Note that above could also be done (more neatly) via pandas \"describe\":"
   ]
  },
  {
   "cell_type": "code",
   "execution_count": 3,
   "metadata": {
    "collapsed": false
   },
   "outputs": [
    {
     "data": {
      "text/html": [
       "<div>\n",
       "<table border=\"1\" class=\"dataframe\">\n",
       "  <thead>\n",
       "    <tr style=\"text-align: right;\">\n",
       "      <th></th>\n",
       "      <th>count</th>\n",
       "      <th>mean</th>\n",
       "      <th>std</th>\n",
       "      <th>min</th>\n",
       "      <th>5%</th>\n",
       "      <th>25%</th>\n",
       "      <th>50%</th>\n",
       "      <th>75%</th>\n",
       "      <th>95%</th>\n",
       "      <th>max</th>\n",
       "    </tr>\n",
       "  </thead>\n",
       "  <tbody>\n",
       "    <tr>\n",
       "      <th>Congruent</th>\n",
       "      <td>24.0</td>\n",
       "      <td>14.051125</td>\n",
       "      <td>3.559358</td>\n",
       "      <td>8.630</td>\n",
       "      <td>9.04910</td>\n",
       "      <td>11.89525</td>\n",
       "      <td>14.3565</td>\n",
       "      <td>16.20075</td>\n",
       "      <td>19.52775</td>\n",
       "      <td>22.328</td>\n",
       "    </tr>\n",
       "    <tr>\n",
       "      <th>Incongruent</th>\n",
       "      <td>24.0</td>\n",
       "      <td>22.015917</td>\n",
       "      <td>4.797057</td>\n",
       "      <td>15.687</td>\n",
       "      <td>17.39865</td>\n",
       "      <td>18.71675</td>\n",
       "      <td>21.0175</td>\n",
       "      <td>24.05150</td>\n",
       "      <td>33.08710</td>\n",
       "      <td>35.255</td>\n",
       "    </tr>\n",
       "  </tbody>\n",
       "</table>\n",
       "</div>"
      ],
      "text/plain": [
       "             count       mean       std     min        5%       25%      50%  \\\n",
       "Congruent     24.0  14.051125  3.559358   8.630   9.04910  11.89525  14.3565   \n",
       "Incongruent   24.0  22.015917  4.797057  15.687  17.39865  18.71675  21.0175   \n",
       "\n",
       "                  75%       95%     max  \n",
       "Congruent    16.20075  19.52775  22.328  \n",
       "Incongruent  24.05150  33.08710  35.255  "
      ]
     },
     "execution_count": 3,
     "metadata": {},
     "output_type": "execute_result"
    }
   ],
   "source": [
    "stroop_data.describe([.05, .25, .5, .75, .95]).transpose()"
   ]
  },
  {
   "cell_type": "markdown",
   "metadata": {},
   "source": [
    "In this case, however, we have less control over the way the statistics computed. For example, standard deviation is computed by default for the *population*, not sample (i.e. it uses the Bessel's correction by default)."
   ]
  },
  {
   "cell_type": "markdown",
   "metadata": {},
   "source": [
    "## Question 4\n",
    "\n",
    "*Provide one or two visualizations that show the distribution of the sample data. Write one or two sentences noting what you observe about the plot or plots.*\n",
    "\n",
    "**Answer**: "
   ]
  },
  {
   "cell_type": "markdown",
   "metadata": {},
   "source": [
    "Let's start from the [box-and-whisker](https://en.wikipedia.org/wiki/Box_plot) plot, which can be thought of as a way to visualize some of the above descriptive statistics:"
   ]
  },
  {
   "cell_type": "code",
   "execution_count": 4,
   "metadata": {
    "collapsed": false
   },
   "outputs": [
    {
     "data": {
      "text/plain": [
       "<matplotlib.axes._subplots.AxesSubplot at 0xa0e99b0>"
      ]
     },
     "execution_count": 4,
     "metadata": {},
     "output_type": "execute_result"
    },
    {
     "data": {
      "image/png": "[encoded data removed]",
      "text/plain": [
       "<matplotlib.figure.Figure at 0xa0e9390>"
      ]
     },
     "metadata": {},
     "output_type": "display_data"
    }
   ],
   "source": [
    "%matplotlib inline\n",
    "import seaborn as sns\n",
    "import matplotlib.pyplot as plt\n",
    "\n",
    "sns.set(style=\"darkgrid\", palette=\"Set3\")\n",
    "\n",
    "sns.boxplot(data=stroop_data)"
   ]
  },
  {
   "cell_type": "markdown",
   "metadata": {},
   "source": [
    "Some observations from the plot:\n",
    "*  Incongruent case shows observably higher reaction times, that seems to intuitively support our $H_A$ hypothesis  \n",
    "*  There are a couple of outliers in the incongruent case (very high reaction times)\n",
    "*  The variability is somewhat higher for the congruent case (save for the outliers)\n",
    "*  But the sample size is too small, so statements like above are not very meaningful "
   ]
  },
  {
   "cell_type": "markdown",
   "metadata": {},
   "source": [
    "Now, let's display what is called a \"violin plot\". It also shows the relative quartile placement, and in addition displays distributions of both congruent/incongruent variables via [kernel density estimation](https://en.wikipedia.org/wiki/Kernel_density_estimation):"
   ]
  },
  {
   "cell_type": "code",
   "execution_count": 5,
   "metadata": {
    "collapsed": false
   },
   "outputs": [
    {
     "data": {
      "text/plain": [
       "[<matplotlib.text.Text at 0xa506828>, <matplotlib.text.Text at 0xa354080>]"
      ]
     },
     "execution_count": 5,
     "metadata": {},
     "output_type": "execute_result"
    },
    {
     "data": {
      "image/png": "[encoded data removed]",
      "text/plain": [
       "<matplotlib.figure.Figure at 0xa2659b0>"
      ]
     },
     "metadata": {},
     "output_type": "display_data"
    }
   ],
   "source": [
    "sd = pd.melt(stroop_data, value_vars=['Congruent', 'Incongruent'], \n",
    "             var_name=\"Type\")\n",
    "sd['all'] = ''\n",
    "ax = sns.violinplot(x='all', y='value', hue='Type', data=sd, \n",
    "               split=True, inner=\"quart\")\n",
    "ax.set(xlabel='', ylabel='Response time')"
   ]
  },
  {
   "cell_type": "markdown",
   "metadata": {},
   "source": [
    "Here, once again, we can see that interquartile ranges do not even overlap, and incongruent one lies above the congruent.\n",
    "\n",
    "The distributions look like normal ones, non-skewed (aside from a couple of outliers causing a slight tail in the incongruent case) and unimodal."
   ]
  },
  {
   "cell_type": "markdown",
   "metadata": {},
   "source": [
    "Since the number of data points is so small, the raw sample placement could be also illustrated via a so-called [\"bee swarm plot\"](http://www.cbs.dtu.dk/~eklund/beeswarm/):"
   ]
  },
  {
   "cell_type": "code",
   "execution_count": 6,
   "metadata": {
    "collapsed": false
   },
   "outputs": [
    {
     "data": {
      "text/plain": [
       "[<matplotlib.text.Text at 0xa354358>, <matplotlib.text.Text at 0xa514550>]"
      ]
     },
     "execution_count": 6,
     "metadata": {},
     "output_type": "execute_result"
    },
    {
     "data": {
      "image/png": "[encoded data removed]",
      "text/plain": [
       "<matplotlib.figure.Figure at 0x8028e10>"
      ]
     },
     "metadata": {},
     "output_type": "display_data"
    }
   ],
   "source": [
    "ax = sns.swarmplot(x='all', y='value', hue='Type', data=sd, \n",
    "              size=16, edgecolor=\"gray\", linewidth=1)\n",
    "ax.set(xlabel='', ylabel='Response time')"
   ]
  },
  {
   "cell_type": "markdown",
   "metadata": {},
   "source": [
    "The incongruent times here are clearly above the congruent ones."
   ]
  },
  {
   "cell_type": "markdown",
   "metadata": {},
   "source": [
    "The next one is a stacked bar plot for the reaction times, sorted by the congruent ones:"
   ]
  },
  {
   "cell_type": "code",
   "execution_count": 7,
   "metadata": {
    "collapsed": false,
    "scrolled": false
   },
   "outputs": [
    {
     "data": {
      "text/plain": [
       "<matplotlib.legend.Legend at 0xa227fd0>"
      ]
     },
     "execution_count": 7,
     "metadata": {},
     "output_type": "execute_result"
    },
    {
     "data": {
      "image/png": "[encoded data removed]",
      "text/plain": [
       "<matplotlib.figure.Figure at 0xa121748>"
      ]
     },
     "metadata": {},
     "output_type": "display_data"
    }
   ],
   "source": [
    "sd1 = stroop_data.sort_values(\"Congruent\", ascending=False)\n",
    "sd1['idx'] = range(1, len(sd1) + 1)\n",
    "f, ax = plt.subplots()\n",
    "cp = sns.color_palette()\n",
    "sns.barplot(x=\"idx\", y=\"Incongruent\", label=\"Incongruent\", data=sd1, color=cp[0])\n",
    "sns.barplot(x=\"idx\", y=\"Congruent\", label=\"Congruent\", data=sd1, color=cp[1])\n",
    "ax.set(xlabel='', ylabel='Response time')\n",
    "ax.legend(ncol=1, loc=\"upper right\", frameon=True)"
   ]
  },
  {
   "cell_type": "markdown",
   "metadata": {},
   "source": [
    "This one clearly show that incongruent time was higher for *every respondent*. \n",
    "\n",
    "Note that all the plots before this one were treating congruent and incongruent samples as completely independent, whereas in fact for each row, presumably, both congruent and incongruent response times were collected from the same person.\n",
    "\n",
    "In this light, the next plot is a joint one, to show the possible dependency between samples:"
   ]
  },
  {
   "cell_type": "code",
   "execution_count": 8,
   "metadata": {
    "collapsed": false,
    "scrolled": false
   },
   "outputs": [
    {
     "data": {
      "text/plain": [
       "<seaborn.axisgrid.JointGrid at 0xa6a9588>"
      ]
     },
     "execution_count": 8,
     "metadata": {},
     "output_type": "execute_result"
    },
    {
     "data": {
      "image/png": "[encoded data removed]",
      "text/plain": [
       "<matplotlib.figure.Figure at 0xa6a9400>"
      ]
     },
     "metadata": {},
     "output_type": "display_data"
    }
   ],
   "source": [
    "ax = sns.jointplot(\"Congruent\", \"Incongruent\", data=stroop_data, \n",
    "                   kind=\"reg\", scatter_kws=dict(s=100, color=\"y\"))\n",
    "ax.plot_joint(sns.kdeplot, n_levels=5)"
   ]
  },
  {
   "cell_type": "markdown",
   "metadata": {},
   "source": [
    "Judging by the look of the scatterplot, bivariate density plot and the attempted linear regression margins, there does not seem to be much dependency between the two variables."
   ]
  },
  {
   "cell_type": "markdown",
   "metadata": {},
   "source": [
    "## Question 5 \n",
    "\n",
    "*Now, perform the statistical test and report your results. What is your confidence level and your critical statistic value? Do you reject the null hypothesis or fail to reject it? Come to a conclusion in terms of the experiment task. Did the results match up with your expectations?*\n",
    "\n",
    "**Answer**: \n",
    "\n",
    "We'll first compute the differences between incongruent and congruent times for each subject and find the mean and standard error for them: "
   ]
  },
  {
   "cell_type": "code",
   "execution_count": 9,
   "metadata": {
    "collapsed": false
   },
   "outputs": [
    {
     "data": {
      "text/plain": [
       "(7.964791666666667, 4.864826910359056, 8.020706944109957)"
      ]
     },
     "execution_count": 9,
     "metadata": {},
     "output_type": "execute_result"
    }
   ],
   "source": [
    "import math\n",
    "\n",
    "diff = stroop_data[\"Incongruent\"] - stroop_data[\"Congruent\"]\n",
    "\n",
    "muD = diff.mean()\n",
    "SD = diff.std(ddof = 1) # to compute sample standard deviation\n",
    "\n",
    "n = len(diff)\n",
    "df = n - 1\n",
    "tstat = muD/(SD/math.sqrt(n))\n",
    "\n",
    "muD, SD, tstat"
   ]
  },
  {
   "cell_type": "markdown",
   "metadata": {},
   "source": [
    "Point estimate of difference of means: $ \\mu_D = \\mu_i - \\mu_c = 7.965 $  \n",
    "Standard deviation for difference: $S_D = 4.865$  \n",
    "t-statistic: $t=8.021$\n",
    "\n",
    "With a 99% confidence level ($\\alpha=0.01$, single-tailed hypothesis), let's find the t-critical value:"
   ]
  },
  {
   "cell_type": "code",
   "execution_count": 10,
   "metadata": {
    "collapsed": false
   },
   "outputs": [
    {
     "data": {
      "text/plain": [
       "2.4998667394943976"
      ]
     },
     "execution_count": 10,
     "metadata": {},
     "output_type": "execute_result"
    }
   ],
   "source": [
    "from scipy.stats import t\n",
    "\n",
    "# t-critical value\n",
    "alpha = 0.01\n",
    "tc = t.ppf(1.0 - alpha, df)\n",
    "tc"
   ]
  },
  {
   "cell_type": "code",
   "execution_count": 11,
   "metadata": {
    "collapsed": false
   },
   "outputs": [
    {
     "data": {
      "text/plain": [
       "2.0515002918664038e-08"
      ]
     },
     "execution_count": 11,
     "metadata": {},
     "output_type": "execute_result"
    }
   ],
   "source": [
    "# P-value\n",
    "Pv = 1 - t.cdf(tstat, df)\n",
    "Pv"
   ]
  },
  {
   "cell_type": "code",
   "execution_count": 12,
   "metadata": {
    "collapsed": false
   },
   "outputs": [
    {
     "data": {
      "text/plain": [
       "(5.4823524112187636, 10.447230922114571)"
      ]
     },
     "execution_count": 12,
     "metadata": {},
     "output_type": "execute_result"
    }
   ],
   "source": [
    "# confidence interval\n",
    "dc = tc*(SD/math.sqrt(n))\n",
    "CI = (muD - dc, muD + dc)\n",
    "CI"
   ]
  },
  {
   "cell_type": "markdown",
   "metadata": {},
   "source": [
    "The t-critical value $t_c=2.5$  \n",
    "\n",
    "We see that our t-statistic is significantly larger than the t-critical value, $t>t_c$ (since 8.021 > 2.5)  \n",
    "\n",
    "Therefore, we **reject the null hypothesis**, which means that incongruent colors scenario is expected to take significantly more time that the congruent one.\n",
    "\n",
    "The 99% confidence interval is $CI=(5.48, 10.45)$. \n",
    "\n",
    "The P-value is $p=2.05*10^{-8}$, i.e. very small (way less than $\\alpha=0.01$).\n",
    "\n",
    "This does confirm the expectations, based on both the actual Stroop's research, the plots above and my own experience when performing the test. "
   ]
  },
  {
   "cell_type": "markdown",
   "metadata": {},
   "source": [
    "## Question 6\n",
    "\n",
    "*Optional: What do you think is responsible for the effects observed? Can you think of an alternative or similar task that would result in a similar effect? Some research about the problem will be helpful for thinking about these two questions!*\n",
    "\n",
    "**Answer**:\n",
    "\n",
    "The [Wikipedia article](https://en.wikipedia.org/wiki/Stroop_effect) suggests that the reason is that linguistic processing channels of the brain are faster than the color ones, so the *word* stimuli occur faster than the *color* ones. Which makes sense.\n",
    "\n",
    "Another explanation could be that since we have to *name* the color (i.e. to come up with a verbal label for some observable physical phenomena), there is an extra level of indirection, a \"lookup\", that is involved in order to fetch this label from one's memory. In the congruent case there is an immediate cue for this label in the form of the written word itself (and importantly, we know that this cue can be trusted). In the incongruent case this cue is lacking.\n",
    "\n",
    "Additionally, I think there must be some kind of cognitive dissonance effect. The brain gets \"surprised\" at the mismatch between the word and the color (possibly, there is no fresh axonal inhibition path between the neurons, or whatever), and it takes additional time for it, since it has to work it around without a \"shortcut\" ready.\n",
    "\n",
    "The latter explanation is more general, and does not necessarily involve the \"linguistic processing channels\". \n",
    "\n",
    "To illustrate this, here's a similar experiment I've come up with: name the *actual number of digits*\n",
    "\n",
    "![](img/alternative-experiment.png)\n",
    "\n"
   ]
  },
  {
   "cell_type": "markdown",
   "metadata": {
    "collapsed": true
   },
   "source": [
    "## Resources\n",
    "\n",
    "*  Stroop effect: https://en.wikipedia.org/wiki/Stroop_effect\n",
    "*  Box plot: https://en.wikipedia.org/wiki/Box_plot\n",
    "*  Kernel density estimation: https://en.wikipedia.org/wiki/Kernel_density_estimation\n",
    "*  \"Bee swarm\" plot: http://www.cbs.dtu.dk/~eklund/beeswarm/\n",
    "*  Udacity \"Intro to Statistics\" course: https://www.udacity.com/course/intro-to-statistics--st101 "
   ]
  }
 ],
 "metadata": {
  "kernelspec": {
   "display_name": "Python 2",
   "language": "python",
   "name": "python2"
  },
  "language_info": {
   "codemirror_mode": {
    "name": "ipython",
    "version": 2
   },
   "file_extension": ".py",
   "mimetype": "text/x-python",
   "name": "python",
   "nbconvert_exporter": "python",
   "pygments_lexer": "ipython2",
   "version": "2.7.12"
  }
 },
 "nbformat": 4,
 "nbformat_minor": 0
}
